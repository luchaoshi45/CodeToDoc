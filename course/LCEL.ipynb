{
 "cells": [
  {
   "cell_type": "markdown",
   "metadata": {},
   "source": [
    "# LCEL"
   ]
  },
  {
   "cell_type": "markdown",
   "metadata": {},
   "source": [
    "### ENV"
   ]
  },
  {
   "cell_type": "code",
   "execution_count": 37,
   "metadata": {},
   "outputs": [],
   "source": [
    "# 引入依赖包，这里的 pydantic 版本为 v2\n",
    "from pydantic import BaseModel, Field, model_validator\n",
    "from langchain_deepseek import ChatDeepSeek\n",
    "from langchain.tools import tool\n",
    "from langchain_core.prompts import PromptTemplate, ChatPromptTemplate, MessagesPlaceholder\n",
    "from langchain.agents import create_tool_calling_agent, AgentExecutor\n",
    "from langchain_core.output_parsers import PydanticOutputParser, JsonOutputParser, StrOutputParser\n",
    "from langchain.output_parsers import RetryOutputParser, OutputFixingParser\n",
    "from typing import Dict\n",
    "from pydantic import BaseModel, Field\n",
    "\n",
    "# 使用 deepseek\n",
    "llm = ChatDeepSeek(\n",
    "    model=\"deepseek-chat\",\n",
    "    temperature=0,\n",
    "    api_key=\"sk-6b2a3015b6094e68aa2956124ad1e870\",\n",
    "    api_base=\"https://api.deepseek.com\",\n",
    ")"
   ]
  },
  {
   "cell_type": "markdown",
   "metadata": {},
   "source": [
    "#### 1 Runnable接口"
   ]
  },
  {
   "cell_type": "markdown",
   "metadata": {},
   "source": [
    "`注意:并不是所有的组件都支持所有的统一的调用方法，尤其是异步事件`"
   ]
  },
  {
   "cell_type": "markdown",
   "metadata": {
    "vscode": {
     "languageId": "plaintext"
    }
   },
   "source": [
    "#### Pydantic 是什么"
   ]
  },
  {
   "cell_type": "markdown",
   "metadata": {},
   "source": [
    "```\n",
    "Pydantic 是一个 Python 数据验证和数据模型库，它的主要作用是：\n",
    "1. 定义数据模型（Model），并自动验证数据类型、格式、必填字段等 \n",
    "2. 自动进行类型转换（比如字符串 \"123\" 会自动转成 int）\n",
    "3. 和 Python 类型注解（type hints）深度结合，写起来简洁\n",
    "```"
   ]
  },
  {
   "cell_type": "code",
   "execution_count": 38,
   "metadata": {},
   "outputs": [
    {
     "name": "stdout",
     "output_type": "stream",
     "text": [
      "123\n",
      "True\n"
     ]
    }
   ],
   "source": [
    "from pydantic import BaseModel\n",
    "\n",
    "class User(BaseModel):\n",
    "    id: int\n",
    "    name: str\n",
    "    is_active: bool = True  # 默认值\n",
    "\n",
    "user = User(id=\"123\", name=\"Alice\")  \n",
    "print(user.id)        # 123（自动转为 int）\n",
    "print(user.is_active) # True"
   ]
  },
  {
   "cell_type": "code",
   "execution_count": 39,
   "metadata": {},
   "outputs": [
    {
     "ename": "ValidationError",
     "evalue": "1 validation error for User\nid\n  Input should be a valid integer, unable to parse string as an integer [type=int_parsing, input_value='abc', input_type=str]\n    For further information visit https://errors.pydantic.dev/2.11/v/int_parsing",
     "output_type": "error",
     "traceback": [
      "\u001b[31m---------------------------------------------------------------------------\u001b[39m",
      "\u001b[31mValidationError\u001b[39m                           Traceback (most recent call last)",
      "\u001b[36mCell\u001b[39m\u001b[36m \u001b[39m\u001b[32mIn[39]\u001b[39m\u001b[32m, line 2\u001b[39m\n\u001b[32m      1\u001b[39m \u001b[38;5;66;03m# 如果数据类型不匹配或字段缺失，它会直接报错：\u001b[39;00m\n\u001b[32m----> \u001b[39m\u001b[32m2\u001b[39m \u001b[43mUser\u001b[49m\u001b[43m(\u001b[49m\u001b[38;5;28;43mid\u001b[39;49m\u001b[43m=\u001b[49m\u001b[33;43m\"\u001b[39;49m\u001b[33;43mabc\u001b[39;49m\u001b[33;43m\"\u001b[39;49m\u001b[43m,\u001b[49m\u001b[43m \u001b[49m\u001b[43mname\u001b[49m\u001b[43m=\u001b[49m\u001b[33;43m\"\u001b[39;49m\u001b[33;43mBob\u001b[39;49m\u001b[33;43m\"\u001b[39;49m\u001b[43m)\u001b[49m\n\u001b[32m      3\u001b[39m \u001b[38;5;66;03m# pydantic.error_wrappers.ValidationError: value is not a valid integer\u001b[39;00m\n",
      "\u001b[36mFile \u001b[39m\u001b[32mf:\\Project\\CodeToDoc\\.venv\\Lib\\site-packages\\pydantic\\main.py:253\u001b[39m, in \u001b[36mBaseModel.__init__\u001b[39m\u001b[34m(self, **data)\u001b[39m\n\u001b[32m    251\u001b[39m \u001b[38;5;66;03m# `__tracebackhide__` tells pytest and some other tools to omit this function from tracebacks\u001b[39;00m\n\u001b[32m    252\u001b[39m __tracebackhide__ = \u001b[38;5;28;01mTrue\u001b[39;00m\n\u001b[32m--> \u001b[39m\u001b[32m253\u001b[39m validated_self = \u001b[38;5;28;43mself\u001b[39;49m\u001b[43m.\u001b[49m\u001b[43m__pydantic_validator__\u001b[49m\u001b[43m.\u001b[49m\u001b[43mvalidate_python\u001b[49m\u001b[43m(\u001b[49m\u001b[43mdata\u001b[49m\u001b[43m,\u001b[49m\u001b[43m \u001b[49m\u001b[43mself_instance\u001b[49m\u001b[43m=\u001b[49m\u001b[38;5;28;43mself\u001b[39;49m\u001b[43m)\u001b[49m\n\u001b[32m    254\u001b[39m \u001b[38;5;28;01mif\u001b[39;00m \u001b[38;5;28mself\u001b[39m \u001b[38;5;129;01mis\u001b[39;00m \u001b[38;5;129;01mnot\u001b[39;00m validated_self:\n\u001b[32m    255\u001b[39m     warnings.warn(\n\u001b[32m    256\u001b[39m         \u001b[33m'\u001b[39m\u001b[33mA custom validator is returning a value other than `self`.\u001b[39m\u001b[38;5;130;01m\\n\u001b[39;00m\u001b[33m'\u001b[39m\n\u001b[32m    257\u001b[39m         \u001b[33m\"\u001b[39m\u001b[33mReturning anything other than `self` from a top level model validator isn\u001b[39m\u001b[33m'\u001b[39m\u001b[33mt supported when validating via `__init__`.\u001b[39m\u001b[38;5;130;01m\\n\u001b[39;00m\u001b[33m\"\u001b[39m\n\u001b[32m    258\u001b[39m         \u001b[33m'\u001b[39m\u001b[33mSee the `model_validator` docs (https://docs.pydantic.dev/latest/concepts/validators/#model-validators) for more details.\u001b[39m\u001b[33m'\u001b[39m,\n\u001b[32m    259\u001b[39m         stacklevel=\u001b[32m2\u001b[39m,\n\u001b[32m    260\u001b[39m     )\n",
      "\u001b[31mValidationError\u001b[39m: 1 validation error for User\nid\n  Input should be a valid integer, unable to parse string as an integer [type=int_parsing, input_value='abc', input_type=str]\n    For further information visit https://errors.pydantic.dev/2.11/v/int_parsing"
     ]
    }
   ],
   "source": [
    "# 如果数据类型不匹配或字段缺失，它会直接报错：\n",
    "User(id=\"abc\", name=\"Bob\")\n",
    "# pydantic.error_wrappers.ValidationError: value is not a valid integer"
   ]
  },
  {
   "cell_type": "markdown",
   "metadata": {},
   "source": [
    "```\n",
    "LangChain 是一个大语言模型（LLM）应用框架，用来把 LLM 与各种工具、数据源连接起来。\n",
    "LangChain 里很多数据结构（比如 Prompt 模型、Chain 参数、输出格式等）都是用 Pydantic 定义的，因为：\n",
    "1. Pydantic 可以自动验证传入的参数\n",
    "2. 定义清晰的数据模型方便调试、序列化、反序列化\n",
    "3. 可以和 JSON、dict 轻松互转，适合 LLM 输出解析\n",
    "```"
   ]
  },
  {
   "cell_type": "code",
   "execution_count": 7,
   "metadata": {},
   "outputs": [
    {
     "name": "stdout",
     "output_type": "stream",
     "text": [
      "The output should be formatted as a JSON instance that conforms to the JSON schema below.\n",
      "\n",
      "As an example, for the schema {\"properties\": {\"foo\": {\"title\": \"Foo\", \"description\": \"a list of strings\", \"type\": \"array\", \"items\": {\"type\": \"string\"}}}, \"required\": [\"foo\"]}\n",
      "the object {\"foo\": [\"bar\", \"baz\"]} is a well-formatted instance of the schema. The object {\"properties\": {\"foo\": [\"bar\", \"baz\"]}} is not well-formatted.\n",
      "\n",
      "Here is the output schema:\n",
      "```\n",
      "{\"properties\": {\"setup\": {\"title\": \"Setup\", \"type\": \"string\"}, \"punchline\": {\"title\": \"Punchline\", \"type\": \"string\"}}, \"required\": [\"setup\", \"punchline\"]}\n",
      "```\n"
     ]
    }
   ],
   "source": [
    "from pydantic import BaseModel\n",
    "from langchain.output_parsers import PydanticOutputParser\n",
    "\n",
    "class Joke(BaseModel):\n",
    "    setup: str\n",
    "    punchline: str\n",
    "\n",
    "parser = PydanticOutputParser(pydantic_object=Joke)\n",
    "\n",
    "print(parser.get_format_instructions())\n",
    "# 会输出提示 LLM 如何返回 Joke 格式的 JSON"
   ]
  },
  {
   "cell_type": "markdown",
   "metadata": {},
   "source": [
    "### 2 LCEL"
   ]
  },
  {
   "cell_type": "code",
   "execution_count": 12,
   "metadata": {},
   "outputs": [
    {
     "name": "stdout",
     "output_type": "stream",
     "text": [
      "有一天，一只狗走进酒吧，跳到吧台上对酒保说：“你们这有速递服务吗？”  \n",
      "\n",
      "酒保：“没有，但我们可以帮你叫外卖。”  \n",
      "\n",
      "狗摇摇头：“不用了，我只是想确认一下——因为门口写着‘热狗速递’！”\n"
     ]
    }
   ],
   "source": [
    "prompt = ChatPromptTemplate.from_template(\"讲一个关于{topic}的笑话,不要有任何解释\")\n",
    "chain = prompt | llm | StrOutputParser()\n",
    "res = chain.invoke({\"topic\":\"狗\"})\n",
    "print(res)"
   ]
  },
  {
   "cell_type": "code",
   "execution_count": null,
   "metadata": {},
   "outputs": [
    {
     "name": "stdout",
     "output_type": "stream",
     "text": [
      "有一天，一只小狗走进了一家酒吧。  \n",
      "\n",
      "它跳到吧台上，对酒保说：“我要一杯啤酒，再来一份报纸。”  \n",
      "\n",
      "酒保惊讶地问：“哇，你会说话？还会看报纸？”  \n",
      "\n",
      "小狗耸耸肩：“报纸是垫啤酒杯的，我可不想弄湿爪子。”"
     ]
    }
   ],
   "source": [
    "for chunk in chain.stream(\"小狗\"):\n",
    "    print(chunk, end=\"\", flush=True)"
   ]
  },
  {
   "cell_type": "code",
   "execution_count": 30,
   "metadata": {},
   "outputs": [
    {
     "name": "stdout",
     "output_type": "stream",
     "text": [
      "有一天，一只小狗走进了一家酒吧。  \n",
      "\n",
      "它跳到吧台上，对酒保说：“给我来一杯柠檬汽水。”  \n",
      "\n",
      "酒保很惊讶：“哇！会说话的狗！这太神奇了！”  \n",
      "\n",
      "小狗耸耸肩：“是啊，而且我还会弹钢琴呢。”  \n",
      "\n",
      "酒保更震惊了：“真的吗？那你能表演一下吗？”  \n",
      "\n",
      "小狗摇摇头：“不行，我是只小短腿，够不着琴键。”"
     ]
    }
   ],
   "source": [
    "async def stream_response():\n",
    "    async for chunk in chain.astream(\"小狗\"):\n",
    "        print(chunk, end=\"\", flush=True)\n",
    "# 运行异步函数\n",
    "import asyncio\n",
    "# asyncio.run(stream_response())\n",
    "await stream_response()"
   ]
  },
  {
   "cell_type": "markdown",
   "metadata": {},
   "source": [
    "#### 短期记忆"
   ]
  },
  {
   "cell_type": "code",
   "execution_count": 41,
   "metadata": {},
   "outputs": [
    {
     "name": "stdout",
     "output_type": "stream",
     "text": [
      "=== Agent 短期记忆对话测试 ===\n",
      "\n",
      "用户: 你好，我叫小明\n",
      "\n",
      "\n",
      "\u001b[1m> Entering new AgentExecutor chain...\u001b[0m\n",
      "\u001b[32;1m\u001b[1;3m你好，小明！很高兴认识你。有什么我可以帮你的吗？\u001b[0m\n",
      "\n",
      "\u001b[1m> Finished chain.\u001b[0m\n",
      "AI: 你好，小明！很高兴认识你。有什么我可以帮你的吗？\n",
      "\n",
      "用户: 我刚才说了什么？\n",
      "\n",
      "\n",
      "\u001b[1m> Entering new AgentExecutor chain...\u001b[0m\n",
      "\u001b[32;1m\u001b[1;3m你刚才说：“你好，我叫小明。”  \n",
      "\n",
      "需要我帮你做些什么吗？\u001b[0m\n",
      "\n",
      "\u001b[1m> Finished chain.\u001b[0m\n",
      "AI: 你刚才说：“你好，我叫小明。”  \n",
      "\n",
      "需要我帮你做些什么吗？\n",
      "\n",
      "用户: 我的名字是什么？\n",
      "\n",
      "\n",
      "\u001b[1m> Entering new AgentExecutor chain...\u001b[0m\n",
      "\u001b[32;1m\u001b[1;3m你的名字是 **小明**。需要我帮你记住其他信息吗？\u001b[0m\n",
      "\n",
      "\u001b[1m> Finished chain.\u001b[0m\n",
      "AI: 你的名字是 **小明**。需要我帮你记住其他信息吗？\n",
      "\n",
      "=== 当前记忆内容 ===\n",
      "[HumanMessage(content='你好，我叫小明', additional_kwargs={}, response_metadata={}), AIMessage(content='你好，小明！很高兴认识你。有什么我可以帮你的吗？', additional_kwargs={}, response_metadata={}), HumanMessage(content='我刚才说了什么？', additional_kwargs={}, response_metadata={}), AIMessage(content='你刚才说：“你好，我叫小明。”  \\n\\n需要我帮你做些什么吗？', additional_kwargs={}, response_metadata={}), HumanMessage(content='我的名字是什么？', additional_kwargs={}, response_metadata={}), AIMessage(content='你的名字是 **小明**。需要我帮你记住其他信息吗？', additional_kwargs={}, response_metadata={})]\n"
     ]
    }
   ],
   "source": [
    "# 创建虚拟工具来满足 API 要求\n",
    "@tool\n",
    "def dummy_tool():\n",
    "    \"\"\"一个虚拟工具，用于满足 DeepSeek API 工具调用的要求\"\"\"\n",
    "    return \"这是一个占位工具\"\n",
    "\n",
    "# 创建短期记忆\n",
    "memory = ConversationBufferMemory(memory_key=\"chat_history\", return_messages=True)\n",
    "\n",
    "# 创建 Prompt 模板\n",
    "prompt = ChatPromptTemplate.from_messages([\n",
    "    (\"system\", \"You are a helpful assistant. Remember the conversation history and context.\"),\n",
    "    MessagesPlaceholder(variable_name=\"chat_history\"),\n",
    "    (\"human\", \"{input}\"),\n",
    "    MessagesPlaceholder(variable_name=\"agent_scratchpad\"),\n",
    "])\n",
    "\n",
    "# 创建 Agent 和 AgentExecutor\n",
    "agent = create_tool_calling_agent(llm=llm, tools=[dummy_tool], prompt=prompt)\n",
    "agent_executor = AgentExecutor(\n",
    "    agent=agent, \n",
    "    tools=[dummy_tool], \n",
    "    memory=memory, \n",
    "    verbose=True,\n",
    "    handle_parsing_errors=True  # 添加错误处理\n",
    ")\n",
    "\n",
    "# 测试对话\n",
    "print(\"=== Agent 短期记忆对话测试 ===\")\n",
    "\n",
    "try:\n",
    "    # 第一轮对话\n",
    "    print(\"\\n用户: 你好，我叫小明\")\n",
    "    response1 = agent_executor.invoke({\"input\": \"你好，我叫小明\"})\n",
    "    print(f\"AI: {response1['output']}\")\n",
    "\n",
    "    # 第二轮对话\n",
    "    print(\"\\n用户: 我刚才说了什么？\")\n",
    "    response2 = agent_executor.invoke({\"input\": \"我刚才说了什么？\"})\n",
    "    print(f\"AI: {response2['output']}\")\n",
    "\n",
    "    # 第三轮对话\n",
    "    print(\"\\n用户: 我的名字是什么？\")\n",
    "    response3 = agent_executor.invoke({\"input\": \"我的名字是什么？\"})\n",
    "    print(f\"AI: {response3['output']}\")\n",
    "\n",
    "except Exception as e:\n",
    "    print(f\"发生错误: {e}\")\n",
    "\n",
    "# 查看当前记忆内容\n",
    "print(\"\\n=== 当前记忆内容 ===\")\n",
    "print(memory.chat_memory.messages)"
   ]
  },
  {
   "cell_type": "markdown",
   "metadata": {},
   "source": []
  }
 ],
 "metadata": {
  "kernelspec": {
   "display_name": ".venv",
   "language": "python",
   "name": "python3"
  },
  "language_info": {
   "codemirror_mode": {
    "name": "ipython",
    "version": 3
   },
   "file_extension": ".py",
   "mimetype": "text/x-python",
   "name": "python",
   "nbconvert_exporter": "python",
   "pygments_lexer": "ipython3",
   "version": "3.12.8"
  }
 },
 "nbformat": 4,
 "nbformat_minor": 2
}
